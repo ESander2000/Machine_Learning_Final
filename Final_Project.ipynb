{
 "cells": [
  {
   "cell_type": "code",
   "execution_count": 7,
   "metadata": {},
   "outputs": [],
   "source": [
    "import os\n",
    "import numpy as np\n",
    "import pandas as pd\n",
    "import matplotlib.pyplot as plt\n",
    "\n",
    "from sklearn.model_selection import train_test_split\n",
    "from sklearn.tree import DecisionTreeClassifier\n",
    "from sklearn.ensemble import RandomForestClassifier\n",
    "from sklearn.metrics import confusion_matrix, classification_report"
   ]
  },
  {
   "cell_type": "code",
   "execution_count": 86,
   "metadata": {},
   "outputs": [
    {
     "name": "stdout",
     "output_type": "stream",
     "text": [
      "0        9.0\n",
      "1        9.0\n",
      "2        9.0\n",
      "3        9.0\n",
      "4        9.0\n",
      "        ... \n",
      "16431    0.0\n",
      "16432    0.0\n",
      "16433    0.0\n",
      "16434    0.0\n",
      "16435    0.0\n",
      "Name: Global_Sales, Length: 16436, dtype: float64\n",
      "{'Wii': 0, 'NES': 1, 'GB': 2, 'DS': 3, 'X360': 4, 'PS3': 5, 'PS2': 6, 'SNES': 7, 'GBA': 8, '3DS': 9, 'PS4': 10, 'N64': 11, 'PS': 12, 'XB': 13, 'PC': 14, '2600': 15, 'PSP': 16, 'XOne': 17, 'GC': 18, 'WiiU': 19, 'GEN': 20, 'DC': 21, 'PSV': 22, 'SAT': 23, 'SCD': 24, 'WS': 25, 'NG': 26, 'TG16': 27, '3DO': 28, 'GG': 29, 'PCFX': 30}\n",
      "{'Sports': 0, 'Platform': 1, 'Racing': 2, 'Role-Playing': 3, 'Puzzle': 4, 'Misc': 5, 'Shooter': 6, 'Simulation': 7, 'Action': 8, 'Fighting': 9, 'Adventure': 10, 'Strategy': 11}\n",
      "      Platform  Year Genre\n",
      "0            0  2006     0\n",
      "1            1  1985     1\n",
      "2            0  2008     2\n",
      "3            0  2009     0\n",
      "4            2  1996     3\n",
      "...        ...   ...   ...\n",
      "16431        8  2002     1\n",
      "16432       18  2003     6\n",
      "16433        6  2008     2\n",
      "16434        3  2010     4\n",
      "16435        8  2003     1\n",
      "\n",
      "[16436 rows x 3 columns]\n",
      "      Platform  Year Genre\n",
      "11983        6  2002     8\n",
      "5938         8  2002     0\n",
      "3895         3  2009     8\n",
      "3930         3  2009    10\n",
      "5702        12  1996    10\n",
      "...        ...   ...   ...\n",
      "10775        7  1995     3\n",
      "6399         5  2012     3\n",
      "8479         3  2009     4\n",
      "8822        12  1998    11\n",
      "9498         6  2005     1\n",
      "\n",
      "[3288 rows x 3 columns]\n"
     ]
    }
   ],
   "source": [
    "path = os.getcwd() + '/final_data/vgsales.csv'\n",
    "data = pd.read_csv(path, header=0)\n",
    "\n",
    "del data['Rank']\n",
    "del data['Name']\n",
    "del data['Publisher']\n",
    "del data['NA_Sales']\n",
    "del data['EU_Sales']\n",
    "del data['JP_Sales']\n",
    "del data['Other_Sales']\n",
    "\n",
    "target = data['Global_Sales']\n",
    "del data['Global_Sales']\n",
    "\n",
    "for t in range(len(target)):\n",
    "    if target[t]> 10:\n",
    "        target.at[t] = 9\n",
    "    elif target[t]> 5:\n",
    "       target.at[t]= 8\n",
    "    elif target[t]>3:\n",
    "       target.at[t]= 7\n",
    "    elif target[t]>1:\n",
    "       target.at[t]= 6\n",
    "    elif target[t]>0.5:\n",
    "       target.at[t]= 5\n",
    "    elif target[t]>0.3:\n",
    "       target.at[t]= 4\n",
    "    elif target[t]>0.1:\n",
    "       target.at[t]= 3\n",
    "    elif target[t]>0.05:\n",
    "       target.at[t]= 2\n",
    "    elif target[t]>0.03:\n",
    "       target.at[t]= 1\n",
    "    elif target[t]>=0.01:\n",
    "       target.at[t]= 0\n",
    "print(target)\n",
    "\n",
    "platforms = {}\n",
    "for p in data['Platform']:\n",
    "    if p in platforms.keys():\n",
    "        pass\n",
    "    else:\n",
    "        platforms[p] = len(platforms)\n",
    "print(platforms)\n",
    "\n",
    "genres = {}\n",
    "for g in data['Genre']:\n",
    "    if g in genres.keys():\n",
    "        g = genres[g]\n",
    "    else:\n",
    "        genres[g] = len(genres)\n",
    "print(genres)\n",
    "\n",
    "for i in range(data.shape[0]):\n",
    "    data.at[i,'Platform'] = platforms[data['Platform'][i]]\n",
    "    data.at[i, 'Genre'] = genres[data['Genre'][i]]\n",
    "print(data)\n",
    "\n",
    "x_train, x_test, y_train, y_test = train_test_split(data, target, test_size=.2, random_state=0)\n",
    "print(x_test)"
   ]
  },
  {
   "cell_type": "code",
   "execution_count": 111,
   "metadata": {},
   "outputs": [
    {
     "data": {
      "image/png": "[encoded data removed]",
      "text/plain": [
       "<Figure size 432x288 with 1 Axes>"
      ]
     },
     "metadata": {
      "needs_background": "light"
     },
     "output_type": "display_data"
    }
   ],
   "source": [
    "list_accuracy_dt = []\n",
    "depth_dt = []\n",
    "for i in range(1, 26):\n",
    "    dtc = DecisionTreeClassifier(max_depth=i)\n",
    "    dtc.fit(x_train, y_train)\n",
    "    depth_dt = depth_dt + [i]\n",
    "    list_accuracy_dt = list_accuracy_dt + [dtc.score(x_test, y_test)]\n",
    "plt.scatter(x=depth_dt, y=list_accuracy_dt)\n",
    "plt.title(\"Decision Tree\")\n",
    "plt.xlabel(\"max_depth\")\n",
    "plt.ylabel(\"accuracy\")\n",
    "plt.show()"
   ]
  },
  {
   "cell_type": "code",
   "execution_count": 112,
   "metadata": {},
   "outputs": [
    {
     "data": {
      "image/png": "[encoded data removed]",
      "text/plain": [
       "<Figure size 432x288 with 1 Axes>"
      ]
     },
     "metadata": {
      "needs_background": "light"
     },
     "output_type": "display_data"
    }
   ],
   "source": [
    "list_accuracy_rf = []\n",
    "depth_rf = []\n",
    "for i in range(1, 26):\n",
    "    rfc = RandomForestClassifier(max_depth=i)\n",
    "    rfc.fit(x_train, y_train)\n",
    "    depth_rf = depth_rf + [i]\n",
    "    list_accuracy_rf = list_accuracy_rf + [rfc.score(x_test, y_test)]\n",
    "plt.scatter(x=depth_rf, y=list_accuracy_rf)\n",
    "plt.title(\"Random Forest\")\n",
    "plt.xlabel(\"max_depth\")\n",
    "plt.ylabel(\"accuracy\")\n",
    "plt.show()"
   ]
  },
  {
   "cell_type": "code",
   "execution_count": null,
   "metadata": {},
   "outputs": [],
   "source": []
  }
 ],
 "metadata": {
  "kernelspec": {
   "display_name": "Python 3",
   "language": "python",
   "name": "python3"
  },
  "language_info": {
   "codemirror_mode": {
    "name": "ipython",
    "version": 3
   },
   "file_extension": ".py",
   "mimetype": "text/x-python",
   "name": "python",
   "nbconvert_exporter": "python",
   "pygments_lexer": "ipython3",
   "version": "3.8.5"
  }
 },
 "nbformat": 4,
 "nbformat_minor": 4
}
